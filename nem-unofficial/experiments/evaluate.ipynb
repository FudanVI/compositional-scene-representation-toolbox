{
 "cells": [
  {
   "cell_type": "code",
   "execution_count": null,
   "metadata": {},
   "outputs": [],
   "source": [
    "import h5py\n",
    "import numpy as np\n",
    "import os\n",
    "import pickle\n",
    "import yaml\n",
    "from sklearn.metrics import adjusted_mutual_info_score"
   ]
  },
  {
   "cell_type": "code",
   "execution_count": null,
   "metadata": {},
   "outputs": [],
   "source": [
    "def compute_ami(config, data, results_all):\n",
    "    seg_overlap = config['seg_overlap']\n",
    "    segments = data['segment']\n",
    "    overlaps = data['overlap']\n",
    "    segments_valid = overlaps >= 1 if seg_overlap else overlaps == 1\n",
    "    mask_all = results_all['mask']\n",
    "    outputs = {key: [] for key in ['ami_obj']}\n",
    "    for mask in mask_all:\n",
    "        segment_o = np.argmax(mask, axis=1).squeeze(-1)\n",
    "        sub_outputs = {key: [] for key in outputs}\n",
    "        for seg_true, seg_valid, seg_o in zip(segments, segments_valid, segment_o):\n",
    "            seg_true_sel = seg_true[seg_valid]\n",
    "            seg_o_sel = seg_o[seg_valid]\n",
    "            sub_outputs['ami_obj'].append(adjusted_mutual_info_score(seg_true_sel, seg_o_sel, average_method='max'))\n",
    "        for key, val in sub_outputs.items():\n",
    "            outputs[key].append(val)\n",
    "    outputs = {key: np.array(val).mean(-1) for key, val in outputs.items()}\n",
    "    return outputs\n",
    "\n",
    "folder_out = 'outs'\n",
    "folder_data = '../data'\n",
    "configs = {\n",
    "    'shapes': {'name_data': 'shapes', 'phase_list': ['test']},\n",
    "    'flying_shapes_3_3': {'name_data': 'flying_shapes_3_3', 'phase_list': ['test', 'general']},\n",
    "    'flying_shapes_3_5': {'name_data': 'flying_shapes_3_3', 'phase_list': ['test', 'general']},\n",
    "    'flying_shapes_5_3': {'name_data': 'flying_shapes_5_3', 'phase_list': ['test', 'general']},\n",
    "    'flying_shapes_5_5': {'name_data': 'flying_shapes_5_3', 'phase_list': ['test', 'general']},\n",
    "    'flying_mnist': {'name_data': 'flying_mnist_2_3', 'phase_list': ['test', 'general']},\n",
    "}\n",
    "metrics = {key: {} for key in configs}\n",
    "for name, cfg in configs.items():\n",
    "    name_data = cfg['name_data']\n",
    "    phase_list = cfg['phase_list']\n",
    "    for phase in phase_list:\n",
    "        with open('config_{}.yaml'.format(name)) as f:\n",
    "            config = yaml.safe_load(f)\n",
    "        num_iters = config['phase_param'][phase]['num_iters']\n",
    "        with h5py.File(os.path.join(folder_data, '{}.h5'.format(name_data)), 'r') as f:\n",
    "            if f[phase]['image'].shape[1] == 1:\n",
    "                data = {key: f[phase][key][()].squeeze(1) for key in f[phase]}\n",
    "            else:\n",
    "                data = {key: f[phase][key][:, num_iters]for key in f[phase]}\n",
    "            for key, val in data.items():\n",
    "                if key in ['segment', 'overlap']:\n",
    "                    data[key] = val.astype(np.int64)\n",
    "                else:\n",
    "                    data[key] = val.astype(np.float64) / 255\n",
    "        with h5py.File(os.path.join(folder_out, name, '{}.h5'.format(phase)), 'r') as f:\n",
    "            results_all = {key: f[key][()] / 255 for key in f}\n",
    "        metrics[name][phase] = compute_ami(config, data, results_all)\n",
    "with open('metrics.pkl', 'wb') as f:\n",
    "    pickle.dump(metrics, f)"
   ]
  },
  {
   "cell_type": "code",
   "execution_count": null,
   "metadata": {},
   "outputs": [],
   "source": [
    "with open('metrics.pkl', 'rb') as f:\n",
    "    metrics = pickle.load(f)\n",
    "for name_data in metrics:\n",
    "    print(name_data)\n",
    "    for phase in metrics[name_data]:\n",
    "        print(phase)\n",
    "        for key_list in [['ami_obj']]:\n",
    "            text_list = []\n",
    "            for key in key_list:\n",
    "                val = metrics[name_data][phase][key]\n",
    "                text_list.append('{}: {:6.3f}'.format(key, val.mean()) + u'\\u00B1' + '{:.1e}'.format(val.std()))\n",
    "            text = (' ' * 4).join(text_list)\n",
    "            print(text)\n",
    "    print()"
   ]
  }
 ],
 "metadata": {
  "kernelspec": {
   "display_name": "Python 3",
   "language": "python",
   "name": "python3"
  },
  "language_info": {
   "codemirror_mode": {
    "name": "ipython",
    "version": 3
   },
   "file_extension": ".py",
   "mimetype": "text/x-python",
   "name": "python",
   "nbconvert_exporter": "python",
   "pygments_lexer": "ipython3",
   "version": "3.8.3"
  }
 },
 "nbformat": 4,
 "nbformat_minor": 2
}
