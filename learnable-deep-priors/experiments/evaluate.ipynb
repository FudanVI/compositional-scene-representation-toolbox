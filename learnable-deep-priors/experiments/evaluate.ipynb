{
 "cells": [
  {
   "cell_type": "code",
   "execution_count": null,
   "metadata": {},
   "outputs": [],
   "source": [
    "import gzip\n",
    "import numpy as np\n",
    "import os\n",
    "import pickle"
   ]
  },
  {
   "cell_type": "code",
   "execution_count": null,
   "metadata": {},
   "outputs": [],
   "source": [
    "def print_scores(path_result, sep=' ' * 4):\n",
    "    with gzip.open(path_result, 'rb') as f:\n",
    "        metrics_all = pickle.load(f)\n",
    "        scores_mean, scores_std = {}, {}\n",
    "        for key, val in metrics_all.items():\n",
    "            if key not in ['ll', 'ami_obj', 'layer_mse']:\n",
    "                continue\n",
    "            if isinstance(val, tuple):\n",
    "                assert len(val) == 2\n",
    "                val = val[0].mean(-1) / val[1].mean(-1)\n",
    "            else:\n",
    "                val = val.mean(-1)\n",
    "            scores_mean[key], scores_std[key] = val.mean(), val.std()\n",
    "    print('LL:{:7.1f} {:.1e}'.format(scores_mean['ll'], scores_std['ll']), end=sep)\n",
    "    print('AMI:{:6.3f} {:.1e}'.format(scores_mean['ami_obj'], scores_std['ami_obj']), end=sep)\n",
    "    print('L_MSE:{:9.2e} {:.1e}'.format(scores_mean['layer_mse'], scores_std['layer_mse']))\n",
    "    return\n",
    "\n",
    "folder_base = 'outs'"
   ]
  },
  {
   "cell_type": "code",
   "execution_count": null,
   "metadata": {},
   "outputs": [],
   "source": [
    "# Multi-Shapes\n",
    "for image_size in ['20', '28']:\n",
    "    folder = 'shapes_{}x{}'.format(image_size, image_size)\n",
    "    print(folder)\n",
    "    print_scores(os.path.join(folder_base, folder, 'test.pkl'))"
   ]
  },
  {
   "cell_type": "code",
   "execution_count": null,
   "metadata": {},
   "outputs": [],
   "source": [
    "# Multi-MNIST\n",
    "for variants in ['20', '500', 'all']:\n",
    "    folder = 'mnist_{}'.format(variants)\n",
    "    print(folder)\n",
    "    print_scores(os.path.join(folder_base, folder, 'test.pkl'))"
   ]
  },
  {
   "cell_type": "code",
   "execution_count": null,
   "metadata": {},
   "outputs": [],
   "source": [
    "# Generalization\n",
    "folder = 'shapes_28x28'\n",
    "for num_objects in [2, 3, 4]:\n",
    "    print('{} Objects'.format(num_objects))\n",
    "    filename='general_{}.pkl'.format(num_objects) if num_objects != 3 else 'test.pkl'\n",
    "    print_scores(os.path.join(folder_base, folder, filename))"
   ]
  }
 ],
 "metadata": {
  "kernelspec": {
   "display_name": "Python 3",
   "language": "python",
   "name": "python3"
  },
  "language_info": {
   "codemirror_mode": {
    "name": "ipython",
    "version": 3
   },
   "file_extension": ".py",
   "mimetype": "text/x-python",
   "name": "python",
   "nbconvert_exporter": "python",
   "pygments_lexer": "ipython3",
   "version": "3.8.3"
  }
 },
 "nbformat": 4,
 "nbformat_minor": 2
}
