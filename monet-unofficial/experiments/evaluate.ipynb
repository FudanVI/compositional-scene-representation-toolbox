{
 "cells": [
  {
   "cell_type": "code",
   "execution_count": null,
   "metadata": {},
   "outputs": [],
   "source": [
    "import gzip\n",
    "import numpy as np\n",
    "import os\n",
    "import pickle"
   ]
  },
  {
   "cell_type": "code",
   "execution_count": null,
   "metadata": {},
   "outputs": [],
   "source": [
    "def print_scores(path_result, sep=' ' * 4):\n",
    "    key_list = ['ari_all_att']\n",
    "    with gzip.open(path_result, 'rb') as f:\n",
    "        metrics_all = pickle.load(f)\n",
    "        scores_mean, scores_std = {}, {}\n",
    "        for key, val in metrics_all.items():\n",
    "            if key not in key_list:\n",
    "                continue\n",
    "            if isinstance(val, tuple):\n",
    "                assert len(val) == 2\n",
    "                val = val[0].mean(-1) / val[1].mean(-1)\n",
    "            else:\n",
    "                val = val.mean(-1)\n",
    "            scores_mean[key], scores_std[key] = val.mean(), val.std()\n",
    "    print('ARI:{:6.3f} {:.1e}'.format(scores_mean['ari_all_att'], scores_std['ari_all_att']))\n",
    "    return"
   ]
  },
  {
   "cell_type": "code",
   "execution_count": null,
   "metadata": {},
   "outputs": [],
   "source": [
    "print_scores(os.path.join('outs', 'room', 'test.pkl'))\n",
    "print_scores(os.path.join('outs', 'room', 'empty_room.pkl'))\n",
    "print_scores(os.path.join('outs', 'room', 'six_objects.pkl'))\n",
    "print_scores(os.path.join('outs', 'room', 'identical_color.pkl'))"
   ]
  },
  {
   "cell_type": "code",
   "execution_count": null,
   "metadata": {},
   "outputs": [],
   "source": [
    "print_scores(os.path.join('outs', 'dsprites', 'test.pkl'))"
   ]
  },
  {
   "cell_type": "code",
   "execution_count": null,
   "metadata": {},
   "outputs": [],
   "source": [
    "print_scores(os.path.join('outs', 'clevr', 'test.pkl'))"
   ]
  }
 ],
 "metadata": {
  "kernelspec": {
   "display_name": "Python 3",
   "language": "python",
   "name": "python3"
  },
  "language_info": {
   "codemirror_mode": {
    "name": "ipython",
    "version": 3
   },
   "file_extension": ".py",
   "mimetype": "text/x-python",
   "name": "python",
   "nbconvert_exporter": "python",
   "pygments_lexer": "ipython3",
   "version": "3.8.3"
  }
 },
 "nbformat": 4,
 "nbformat_minor": 2
}
