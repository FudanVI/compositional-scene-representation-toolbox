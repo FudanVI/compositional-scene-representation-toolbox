{
 "cells": [
  {
   "cell_type": "code",
   "execution_count": null,
   "metadata": {},
   "outputs": [],
   "source": [
    "import h5py\n",
    "import numpy as np\n",
    "import os\n",
    "import pickle\n",
    "import yaml"
   ]
  },
  {
   "cell_type": "code",
   "execution_count": null,
   "metadata": {},
   "outputs": [],
   "source": [
    "def compute_ll(config, data, results_all):\n",
    "    normal_scale = config['normal_scale']\n",
    "    normal_invvar = 1 / pow(normal_scale, 2)\n",
    "    normal_const = np.log(2 * np.pi / normal_invvar)\n",
    "    images = data['image']\n",
    "    recon_all = results_all['recon']\n",
    "    ll_all = []\n",
    "    for recon in recon_all:\n",
    "        pixel_ll = -0.5 * (normal_const + normal_invvar * np.square(recon - images))\n",
    "        ll = pixel_ll.reshape(pixel_ll.shape[0], -1).sum(1)\n",
    "        ll_all.append(ll)\n",
    "    return np.array(ll_all).mean(-1)\n",
    "\n",
    "def compute_oca(data, results_all):\n",
    "    segments = data['segment']\n",
    "    seg_back = segments.max()\n",
    "    counts = np.array([(np.unique(val) != seg_back).sum() for val in segments])\n",
    "    pres_all = results_all['pres']\n",
    "    oca_all = []\n",
    "    for pres in pres_all:\n",
    "        oca = ((pres[:, :-1] >= 0.5).sum(-1) == counts).astype(np.float)\n",
    "        oca_all.append(oca)\n",
    "    return np.array(oca_all).mean(-1)\n",
    "\n",
    "folder_out = 'outs'\n",
    "folder_data = '../data'\n",
    "name_list = ['mnist_extrapol', 'mnist_interpol']\n",
    "phase_list = ['test', 'general']\n",
    "with open('config.yaml') as f:\n",
    "    config = yaml.safe_load(f)\n",
    "metrics = {key: {} for key in name_list}\n",
    "for name in name_list:\n",
    "    for phase in phase_list:\n",
    "        with h5py.File(os.path.join(folder_data, '{}.h5'.format(name)), 'r') as f:\n",
    "            data = {key: f[phase][key][()] for key in f[phase]}\n",
    "            for key, val in data.items():\n",
    "                if key in ['segment', 'overlap']:\n",
    "                    data[key] = val.astype(np.int64)\n",
    "                else:\n",
    "                    data[key] = val.astype(np.float64) / 255\n",
    "        with h5py.File(os.path.join(folder_out, name, '{}.h5'.format(phase)), 'r') as f:\n",
    "            results_all = {key: f[key][()] / 255 for key in f}\n",
    "        metrics[name][phase] = {\n",
    "            'll': compute_ll(config, data, results_all),\n",
    "            'oca': compute_oca(data, results_all),\n",
    "        }\n",
    "with open('metrics.pkl', 'wb') as f:\n",
    "    pickle.dump(metrics, f)     "
   ]
  },
  {
   "cell_type": "code",
   "execution_count": null,
   "metadata": {},
   "outputs": [],
   "source": [
    "with open('metrics.pkl', 'rb') as f:\n",
    "    metrics = pickle.load(f)\n",
    "fmt = {\n",
    "    'll': '{:7.1f}',\n",
    "    'oca': '{:6.3f}',\n",
    "}\n",
    "for name in name_list:\n",
    "    print(name)\n",
    "    for phase in phase_list:\n",
    "        print(phase)\n",
    "        for key_list in [['ll', 'oca']]:\n",
    "            text_list = []\n",
    "            for key in key_list:\n",
    "                val = metrics[name][phase][key]\n",
    "                if val is None:\n",
    "                    continue\n",
    "                text_list.append('{}:'.format(key) + fmt[key].format(val.mean()) + u'\\u00B1' + '{:.1e}'.format(val.std()))\n",
    "            text = (' ' * 4).join(text_list)\n",
    "            print(text)\n",
    "    print()"
   ]
  }
 ],
 "metadata": {
  "kernelspec": {
   "display_name": "Python 3",
   "language": "python",
   "name": "python3"
  },
  "language_info": {
   "codemirror_mode": {
    "name": "ipython",
    "version": 3
   },
   "file_extension": ".py",
   "mimetype": "text/x-python",
   "name": "python",
   "nbconvert_exporter": "python",
   "pygments_lexer": "ipython3",
   "version": "3.8.3"
  }
 },
 "nbformat": 4,
 "nbformat_minor": 2
}
