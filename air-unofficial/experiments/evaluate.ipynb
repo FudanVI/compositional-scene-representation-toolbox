{
 "cells": [
  {
   "cell_type": "code",
   "execution_count": null,
   "metadata": {},
   "outputs": [],
   "source": [
    "import gzip\n",
    "import numpy as np\n",
    "import os\n",
    "import pickle"
   ]
  },
  {
   "cell_type": "code",
   "execution_count": null,
   "metadata": {},
   "outputs": [],
   "source": [
    "def print_scores(path_result, sep=' ' * 4):\n",
    "    key_list = ['ll', 'oca']\n",
    "    with gzip.open(path_result, 'rb') as f:\n",
    "        metrics_all = pickle.load(f)\n",
    "        scores_mean, scores_std = {}, {}\n",
    "        for key, val in metrics_all.items():\n",
    "            if key not in key_list:\n",
    "                continue\n",
    "            if isinstance(val, tuple):\n",
    "                assert len(val) == 2\n",
    "                val = val[0].mean(-1) / val[1].mean(-1)\n",
    "            else:\n",
    "                val = val.mean(-1)\n",
    "            scores_mean[key], scores_std[key] = val.mean(), val.std()\n",
    "    print('LL:{:7.1f} {:.1e}'.format(scores_mean['ll'], scores_std['ll']), end=sep)\n",
    "    print('OCA:{:6.3f} {:.1e}'.format(scores_mean['oca'], scores_std['oca']))\n",
    "    return\n",
    "\n",
    "folder_base = 'outs'"
   ]
  },
  {
   "cell_type": "code",
   "execution_count": null,
   "metadata": {},
   "outputs": [],
   "source": [
    "# Extrapolation\n",
    "folder = 'mnist_extrapol'\n",
    "print(folder)\n",
    "print('0, 1, 2 -> 0, 1, 2')\n",
    "print_scores(os.path.join(folder_base, folder, 'test.pkl'))\n",
    "print('0, 1, 2 -> 3')\n",
    "print_scores(os.path.join(folder_base, folder, 'general.pkl'))"
   ]
  },
  {
   "cell_type": "code",
   "execution_count": null,
   "metadata": {},
   "outputs": [],
   "source": [
    "# Interpolation\n",
    "folder = 'mnist_interpol'\n",
    "print(folder)\n",
    "print('0, 1, 3 -> 0, 1, 3')\n",
    "print_scores(os.path.join(folder_base, folder, 'test.pkl'))\n",
    "print('0, 1, 3 -> 2')\n",
    "print_scores(os.path.join(folder_base, folder, 'general.pkl'))"
   ]
  }
 ],
 "metadata": {
  "kernelspec": {
   "display_name": "Python 3",
   "language": "python",
   "name": "python3"
  },
  "language_info": {
   "codemirror_mode": {
    "name": "ipython",
    "version": 3
   },
   "file_extension": ".py",
   "mimetype": "text/x-python",
   "name": "python",
   "nbconvert_exporter": "python",
   "pygments_lexer": "ipython3",
   "version": "3.8.3"
  }
 },
 "nbformat": 4,
 "nbformat_minor": 2
}
