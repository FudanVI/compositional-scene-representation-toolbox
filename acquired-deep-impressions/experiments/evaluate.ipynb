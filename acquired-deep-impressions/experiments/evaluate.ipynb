{
 "cells": [
  {
   "cell_type": "code",
   "execution_count": null,
   "metadata": {},
   "outputs": [],
   "source": [
    "import h5py\n",
    "import numpy as np\n",
    "import os"
   ]
  },
  {
   "cell_type": "code",
   "execution_count": null,
   "metadata": {},
   "outputs": [],
   "source": [
    "metric_dict = {\n",
    "    'layer_mse': 'MSE',\n",
    "    'ami_obj': 'AMI',\n",
    "    'count': 'OCA',\n",
    "    'order': 'OOA',\n",
    "}\n",
    "\n",
    "def convert(scores_mean, scores_std, key, use_ooa):\n",
    "    text = '{}:  '.format(metric_dict[key])\n",
    "    if key == 'layer_mse':\n",
    "        text += '{:.2e} {} {:.0e}'.format(scores_mean[key], u'\\u00B1', scores_std[key], key)\n",
    "    elif key == 'order' and not use_ooa:\n",
    "        text += 'N/A'\n",
    "    else:\n",
    "        text += '{:.3f} {} {:.0e}'.format(scores_mean[key], u'\\u00B1', scores_std[key], key)\n",
    "    return text\n",
    "\n",
    "def print_scores_single(phase):\n",
    "    folder = 'outs_single'\n",
    "    for name in ['mnist', 'abstract']:\n",
    "        print(name)\n",
    "        path_result = os.path.join(folder, '{}_1.0_10.0'.format(name), '{}.h5'.format(phase))\n",
    "        with h5py.File(path_result, 'r') as f:\n",
    "            scores_mean = {key: np.mean(f['metric'][key]) for key in f['metric']}\n",
    "            scores_std = {key: np.std(f['metric'][key]) for key in f['metric']}\n",
    "        scores_list = [convert(scores_mean, scores_std, key, False) for key in ['layer_mse', 'count']]\n",
    "        print((' ' * 8).join(scores_list))\n",
    "    return\n",
    "\n",
    "def print_scores_complex(phase):\n",
    "    for name in ['mnist', 'abstract']:\n",
    "        for occl in [0, 1]:\n",
    "            for mode in ['direct', 'adi']:\n",
    "                print(name, occl, mode)\n",
    "                folder = 'outs_{}'.format(mode)\n",
    "                suffix = '1.0' if mode == 'direct' else '1.0_1.0'\n",
    "                path_result = os.path.join(folder, '{}_{}_{}'.format(name, occl, suffix), '{}.h5'.format(phase))\n",
    "                with h5py.File(path_result, 'r') as f:\n",
    "                    scores_mean = {key: np.mean(f['metric'][key]) for key in f['metric']}\n",
    "                    scores_std = {key: np.std(f['metric'][key]) for key in f['metric']}\n",
    "                scores_list = [convert(scores_mean, scores_std, key, name == 'abstract')\n",
    "                               for key in ['layer_mse', 'ami_obj', 'count', 'order']]\n",
    "                print((' ' * 8).join(scores_list))\n",
    "    return"
   ]
  },
  {
   "cell_type": "code",
   "execution_count": null,
   "metadata": {},
   "outputs": [],
   "source": [
    "# Performance of Supervised Learning\n",
    "print_scores_single('test')"
   ]
  },
  {
   "cell_type": "code",
   "execution_count": null,
   "metadata": {},
   "outputs": [],
   "source": [
    "# Effectiveness of Acquired Impressions (tested on images containing 2 ~ 4 objects)\n",
    "print_scores_complex('test')"
   ]
  },
  {
   "cell_type": "code",
   "execution_count": null,
   "metadata": {},
   "outputs": [],
   "source": [
    "# Effectiveness of Acquired Impressions (tested on images containing 5 ~ 6 objects)\n",
    "print_scores_complex('general')"
   ]
  }
 ],
 "metadata": {
  "kernelspec": {
   "display_name": "Python 3",
   "language": "python",
   "name": "python3"
  },
  "language_info": {
   "codemirror_mode": {
    "name": "ipython",
    "version": 3
   },
   "file_extension": ".py",
   "mimetype": "text/x-python",
   "name": "python",
   "nbconvert_exporter": "python",
   "pygments_lexer": "ipython3",
   "version": "3.8.3"
  }
 },
 "nbformat": 4,
 "nbformat_minor": 2
}
